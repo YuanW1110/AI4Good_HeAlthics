{
  "nbformat": 4,
  "nbformat_minor": 0,
  "metadata": {
    "colab": {
      "name": "Ai4Health.ipynb",
      "provenance": [],
      "collapsed_sections": [],
      "authorship_tag": "ABX9TyMM29BJxzFLkqe6rs3t4aOt",
      "include_colab_link": true
    },
    "kernelspec": {
      "name": "python3",
      "display_name": "Python 3"
    },
    "language_info": {
      "name": "python"
    }
  },
  "cells": [
    {
      "cell_type": "markdown",
      "metadata": {
        "id": "view-in-github",
        "colab_type": "text"
      },
      "source": [
        "<a href=\"https://colab.research.google.com/github/YuanW1110/AI4GooLab_RacialBiasinHealthcare/blob/main/Ai4Health.ipynb\" target=\"_parent\"><img src=\"https://colab.research.google.com/assets/colab-badge.svg\" alt=\"Open In Colab\"/></a>"
      ]
    },
    {
      "cell_type": "markdown",
      "source": [
        "#Data Preprocessing the HAM10000 datset\n",
        "To find out:\n",
        "* How diverse the dataset is (how many images of each skin tone do we have)\n",
        "* etc.\n",
        "\n",
        "\n"
      ],
      "metadata": {
        "id": "DMPESRj1Qrbp"
      }
    },
    {
      "cell_type": "code",
      "source": [
        "#LOAD THE DATASET"
      ],
      "metadata": {
        "id": "4ZZQljDqRFYm"
      },
      "execution_count": null,
      "outputs": []
    }
  ]
}